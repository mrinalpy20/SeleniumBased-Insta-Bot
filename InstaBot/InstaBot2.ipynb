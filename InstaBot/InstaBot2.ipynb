{
 "cells": [
  {
   "cell_type": "markdown",
   "id": "a20d3558",
   "metadata": {},
   "source": [
    "Imports"
   ]
  },
  {
   "cell_type": "code",
   "execution_count": 31,
   "id": "5081a032",
   "metadata": {},
   "outputs": [],
   "source": [
    "import time\n",
    "import nltk\n",
    "import numpy as np\n",
    "import pandas as pd\n",
    "import matplotlib.pyplot as plt\n",
    "from datetime import date\n",
    "from selenium import webdriver\n",
    "from selenium.webdriver.common.by import By\n",
    "from selenium.webdriver.support.ui import WebDriverWait\n",
    "from selenium.webdriver.support import expected_conditions as EC"
   ]
  },
  {
   "cell_type": "markdown",
   "id": "c2e44845",
   "metadata": {},
   "source": [
    "Initialising variables and logging in"
   ]
  },
  {
   "cell_type": "code",
   "execution_count": 2,
   "id": "013c8042",
   "metadata": {},
   "outputs": [],
   "source": [
    "driver = webdriver.ChromiumEdge()\n",
    "driver.get('https://www.instagram.com/')\n",
    "username = 'sampleuser'\n",
    "password = 'samplepass'"
   ]
  },
  {
   "cell_type": "code",
   "execution_count": 3,
   "id": "d15f6c0d",
   "metadata": {},
   "outputs": [],
   "source": [
    "# logging in\n",
    "driver.find_element(By.CSS_SELECTOR, \"input[name = 'username']\").send_keys(username)\n",
    "driver.find_element(By.CSS_SELECTOR, \"input[name = 'password']\").send_keys(password) \n",
    "driver.find_element(By.CSS_SELECTOR,\"button[type = 'submit']\").click()\n",
    "\n",
    "# closing popups\n",
    "try:\n",
    "    (WebDriverWait(driver, 10).until(EC.presence_of_element_located((By.CSS_SELECTOR, 'div.cmbtv button')))).click()\n",
    "    (WebDriverWait(driver, 10).until(EC.presence_of_all_elements_located((By.CSS_SELECTOR, 'div._a9-v button'))))[1].click()\n",
    "except:\n",
    "    pass"
   ]
  },
  {
   "cell_type": "markdown",
   "metadata": {},
   "source": [
    "Some useful functions"
   ]
  },
  {
   "cell_type": "code",
   "execution_count": 4,
   "id": "b8c291ae",
   "metadata": {},
   "outputs": [],
   "source": [
    "# open profile of passed user profile name\n",
    "def open_profile(profile_name):\n",
    "    driver.get('https://www.instagram.com/'+profile_name)\n",
    "\n",
    "\n",
    "# open post view of profile from most recent post\n",
    "def open_post_view(profile_name):\n",
    "    open_profile(profile_name)\n",
    "    WebDriverWait(driver, 10).until(EC.presence_of_all_elements_located((By.CSS_SELECTOR, 'div._aa_m button')))[1]    # waiting profile page to load completely based on if follow button loaded or not\n",
    "    driver.find_element(By.CSS_SELECTOR, 'article a').click()    # open most recent post\n",
    "\n",
    "\n",
    "# go to next post\n",
    "def next_post():\n",
    "    try:\n",
    "        driver.find_element(By.CSS_SELECTOR, 'div._aaqg._aaqh button').click()\n",
    "    except:\n",
    "        return 'Post view not open!'"
   ]
  },
  {
   "cell_type": "markdown",
   "id": "a74f6289",
   "metadata": {},
   "source": [
    "\n",
    "#### **1. Follower and post statistics**\n",
    "\n",
    "---\n",
    "\n",
    "<br>\n",
    "\n",
    "1. From first 10 handles found by searching 'food', finding the top 5 handles in terms of highest follower count.\n",
    "\n",
    "2. Graphing the last 3 days post count of these handles."
   ]
  },
  {
   "cell_type": "code",
   "execution_count": 5,
   "id": "ca56768f",
   "metadata": {},
   "outputs": [],
   "source": [
    "def get_follower_count(profile_name):\n",
    "    open_profile(profile_name)\n",
    "    follower_count = (WebDriverWait(driver, 10).until(EC.presence_of_all_elements_located((By.CSS_SELECTOR, 'ul._aa_7 li span'))))[1].get_attribute('title')\n",
    "    return int(follower_count.replace(',', ''))"
   ]
  },
  {
   "cell_type": "code",
   "execution_count": 12,
   "id": "8e9022ea",
   "metadata": {},
   "outputs": [
    {
     "name": "stdout",
     "output_type": "stream",
     "text": [
      "1 yourfoodlab 2003951\n",
      "2 dilsefoodie 1024490\n",
      "3 foodtalkindia 308099\n",
      "4 food 180755\n",
      "5 food_lunatic 136587\n"
     ]
    }
   ],
   "source": [
    "# finding the top 5\n",
    "food_handles_follower_count = {}\n",
    "with open('food_handles.txt') as text_file:    # food_handles.txt output from InstaBot1.ipynb\n",
    "    for _ in range(10):\n",
    "        food_handle = text_file.readline()[:-1]\n",
    "        follower_count = get_follower_count(food_handle)\n",
    "        food_handles_follower_count[food_handle] = follower_count\n",
    "\n",
    "top_5_food_handles = sorted(food_handles_follower_count, key = lambda food_handle: food_handles_follower_count[food_handle], reverse=True)[:5]\n",
    "for pos, handle in enumerate(top_5_food_handles):\n",
    "    print(pos+1, handle, food_handles_follower_count[handle])"
   ]
  },
  {
   "cell_type": "code",
   "execution_count": 14,
   "id": "ab4f3138",
   "metadata": {},
   "outputs": [],
   "source": [
    "# finding post count of top 5\n",
    "post_counts_by_handle = []    # each item is a list containing post count 1, 2, and 3 days old of corresponding handle in top_5_food_handles\n",
    "for handle in top_5_food_handles:\n",
    "    open_post_view(handle)\n",
    "    post_counts = [0, 0, 0]\n",
    "\n",
    "    while True:\n",
    "        post_date = date.fromisoformat(((WebDriverWait(driver, 10).until(EC.presence_of_element_located((By.CSS_SELECTOR, 'div._aa-b time')))).get_attribute('datetime')).split('T')[0])\n",
    "        post_duration = (date.today() - post_date).days\n",
    "\n",
    "        if post_duration == 0:\n",
    "            pass\n",
    "\n",
    "        elif post_duration == 1:\n",
    "            post_counts[0] += 1\n",
    "\n",
    "        elif post_duration == 2:\n",
    "            post_counts[1] += 1\n",
    "\n",
    "        elif post_duration == 3:\n",
    "            post_counts[2] += 1\n",
    "\n",
    "        else:\n",
    "            break\n",
    "\n",
    "        next_post()\n",
    "\n",
    "    post_counts_by_handle.append(post_counts)"
   ]
  },
  {
   "cell_type": "code",
   "execution_count": 157,
   "id": "6f41b6a9",
   "metadata": {},
   "outputs": [
    {
     "data": {
      "image/png": "[encoded data removed]",
      "text/plain": [
       "<Figure size 432x288 with 1 Axes>"
      ]
     },
     "metadata": {
      "needs_background": "light"
     },
     "output_type": "display_data"
    }
   ],
   "source": [
    "# plotting last 3 days post count\n",
    "post_counts_by_duration = list(zip(*post_counts_by_handle))    # required for plotting purpose\n",
    "x = np.arange(5)\n",
    "\n",
    "# plotting stacked bar chart\n",
    "p1 = plt.bar(x, post_counts_by_duration[2], color = 'darkturquoise')    # 3 days old posts\n",
    "p2 = plt.bar(x, post_counts_by_duration[1], bottom = post_counts_by_duration[2], color = 'turquoise')    # 2 days old posts on top of 3 days old posts\n",
    "p3 = plt.bar(x, post_counts_by_duration[0], bottom=np.array(post_counts_by_duration[1]) + np.array(post_counts_by_duration[2]), color = 'paleturquoise')   # 1 day old posts on top of 2 days old posts\n",
    "\n",
    "plt.xlabel(\"Food Handles\")\n",
    "plt.ylabel('Post count')\n",
    "plt.title('Last 3 days post counts of top 5 food handles')\n",
    "plt.xticks(x, top_5_food_handles)\n",
    "plt.yticks(list(range(max([sum(post_counts) for post_counts in post_counts_by_handle])+1)))\n",
    "plt.legend((p3[0], p2[0], p1[0]), ('yesterday', '2 days', '3 days'))\n",
    "\n",
    "plt.savefig('post_count.png')    # exporting the created figure as png\n",
    "plt.show()"
   ]
  },
  {
   "cell_type": "markdown",
   "id": "90c175af",
   "metadata": {},
   "source": [
    "#### **2. Most popular hashtags**\n",
    "\n",
    "---\n",
    "\n",
    "<br>\n",
    "\n",
    "1. From the obtained top 5 food handles, scrape the content of the first 10 posts.\n",
    "\n",
    "3. Export word frequency csv from these posts.\n",
    "\n",
    "2. Plot pie chart for 5 most popular hashtags based on thier frequncy of use."
   ]
  },
  {
   "cell_type": "code",
   "execution_count": 96,
   "id": "4b8eed5e",
   "metadata": {},
   "outputs": [],
   "source": [
    "words = {}    # word frequncy dictionary\n",
    "tags = {}    # hashtag frequency dictionary\n",
    "\n",
    "for handle in top_5_food_handles:\n",
    "    open_post_view(handle)\n",
    "\n",
    "    for _ in range(10):\n",
    "        content = nltk.word_tokenize((WebDriverWait(driver, 10).until(EC.presence_of_element_located((By.CSS_SELECTOR, 'div._a9zs span')))).text)    # tokenizing words in content\n",
    "        i = 0\n",
    "        flag = False    # flag for if word is a hashtag\n",
    "        while i < len(content):\n",
    "            word = content[i].replace('-', '')\n",
    "            if word.isalpha():\n",
    "                word = word.lower()\n",
    "                if flag:\n",
    "                    if word in tags:\n",
    "                        tags[word] += 1\n",
    "                    else:\n",
    "                        tags[word] = 1\n",
    "                    flag = False\n",
    "                else:\n",
    "                    if word in words:\n",
    "                        words[word] += 1\n",
    "                    else:\n",
    "                        words[word] = 1\n",
    "            # if words contains anything other than alphabets and hyphens\n",
    "            else:\n",
    "                if word == '@':    # if True next word assumed to be a username and hence skipped\n",
    "                    i += 2\n",
    "                    continue\n",
    "                elif word == '#':    # if True next words assumed to be a hashtag and falg is set to True\n",
    "                    flag = True\n",
    "                else:    # for any other cases skip the\n",
    "                    pass\n",
    "            i += 1\n",
    "\n",
    "        next_post()\n"
   ]
  },
  {
   "cell_type": "code",
   "execution_count": 108,
   "id": "aaf3734e",
   "metadata": {},
   "outputs": [],
   "source": [
    "# sorting and exporting scraped data\n",
    "words = (pd.Series(words)).sort_values(ascending=False)\n",
    "tags = (pd.Series(tags)).sort_values(ascending=False)\n",
    "words.to_csv('words.csv', index_label = 'word', header = ['frequency'])\n",
    "tags.to_csv('tags.csv', index_label = 'tag', header = ['frequency'])"
   ]
  },
  {
   "cell_type": "code",
   "execution_count": 166,
   "id": "3bf08240",
   "metadata": {},
   "outputs": [
    {
     "data": {
      "text/plain": [
       "<function matplotlib.pyplot.show(close=None, block=None)>"
      ]
     },
     "execution_count": 166,
     "metadata": {},
     "output_type": "execute_result"
    },
    {
     "data": {
      "image/png": "[encoded data removed]",
      "text/plain": [
       "<Figure size 432x288 with 1 Axes>"
      ]
     },
     "metadata": {},
     "output_type": "display_data"
    }
   ],
   "source": [
    "#plotting pie chart for top 5 most popular/frequent hashtags\n",
    "colors = ('#6982b1', '#00a5d8', '#00c8e1', '#00e7c4', '#6cff8c')\n",
    "patches, texts, autotexts = plt.pie(tags[:5], labels = tags.keys()[:5], startangle=90, autopct = lambda frequency: f'{frequency:.2f}%\\n({round((frequency/100)*sum(tags[:5]))})' , colors= colors)\n",
    "for autotext in autotexts:\n",
    "    autotext.set_color('white')\n",
    "plt.title('Top 5 most popular hashtags used by food handles')\n",
    "plt.savefig('popular_hashtag.png')\n",
    "plt.show"
   ]
  },
  {
   "cell_type": "markdown",
   "id": "90c175af",
   "metadata": {},
   "source": [
    "#### **3. Average followers to likes ratio**\n",
    "\n",
    "---\n",
    "\n",
    "<br>\n",
    "\n",
    "1. From the obtained top 5 food handles, calculate average likes for the first 10 posts.\n",
    "\n",
    "3. Divide average likes by followers to get the reuired ratio for each handle\n",
    "\n",
    "2. Plot bar graph for above information"
   ]
  },
  {
   "cell_type": "code",
   "execution_count": 144,
   "id": "9f9b4419",
   "metadata": {},
   "outputs": [],
   "source": [
    "# get no. of likes of current open post\n",
    "def get_likes():\n",
    "    try:\n",
    "        likes = WebDriverWait(driver, 10).until(EC.presence_of_all_elements_located((By.CSS_SELECTOR, 'section._aa-7 span')))\n",
    "    except:\n",
    "        raise ValueError    # cannot find given likes section\n",
    "    if len(likes) == 4:\n",
    "        likes = int(likes[3].text.replace(',', '')) + 1    # if section format like: liked by <user> and <n> others. Get n and add 1 for total no. of likes\n",
    "    elif len(likes) == 1:\n",
    "        likes = int(likes[0].text.replace(',', ''))    # otherwise simply extract the total no. of likes given as text\n",
    "    else:    # in this case instagram show no. of views instead and not likes or some other unexpected error\n",
    "        raise ValueError   \n",
    "    return likes"
   ]
  },
  {
   "cell_type": "code",
   "execution_count": 145,
   "id": "cf7f9778",
   "metadata": {},
   "outputs": [],
   "source": [
    "avg_follower_like_ratio = {}\n",
    "\n",
    "for handle in top_5_food_handles:\n",
    "    open_post_view(handle)\n",
    "    total_likes = 0\n",
    "    i = 0\n",
    "    while i <= 10:\n",
    "        try:\n",
    "            total_likes += get_likes()\n",
    "        except ValueError:    # if no. of views present instead of likes/cannot get likes, skip that post\n",
    "            next_post()\n",
    "            continue\n",
    "        i += 1\n",
    "        next_post()\n",
    "    avg_follower_like_ratio[handle] = (total_likes/10)/(food_handles_follower_count[handle])"
   ]
  },
  {
   "cell_type": "code",
   "execution_count": 162,
   "id": "69e04d66",
   "metadata": {},
   "outputs": [
    {
     "data": {
      "text/plain": [
       "<function matplotlib.pyplot.show(close=None, block=None)>"
      ]
     },
     "execution_count": 162,
     "metadata": {},
     "output_type": "execute_result"
    },
    {
     "data": {
      "image/png": "[encoded data removed]",
      "text/plain": [
       "<Figure size 432x288 with 1 Axes>"
      ]
     },
     "metadata": {
      "needs_background": "light"
     },
     "output_type": "display_data"
    }
   ],
   "source": [
    "plt.bar(np.arange(5), avg_follower_like_ratio.values(), color = 'darkturquoise')\n",
    "plt.title('Avg likes to follower ratio of top 5 food handles')\n",
    "plt.xlabel('Top 5 food handles')\n",
    "plt.ylabel('avg likes:followers')\n",
    "plt.xticks(np.arange(5), top_5_food_handles)\n",
    "plt.savefig('avg_likes_to_followers.png')\n",
    "plt.show"
   ]
  }
 ],
 "metadata": {
  "kernelspec": {
   "display_name": "Python 3.10.0 64-bit",
   "language": "python",
   "name": "python3"
  },
  "language_info": {
   "codemirror_mode": {
    "name": "ipython",
    "version": 3
   },
   "file_extension": ".py",
   "mimetype": "text/x-python",
   "name": "python",
   "nbconvert_exporter": "python",
   "pygments_lexer": "ipython3",
   "version": "3.10.0"
  },
  "vscode": {
   "interpreter": {
    "hash": "8925120094c30cfcf52475a53e76e9e54f965c4e5eeb7d39eacd98c85315eb39"
   }
  }
 },
 "nbformat": 4,
 "nbformat_minor": 5
}
