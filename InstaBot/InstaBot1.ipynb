{
 "cells": [
  {
   "cell_type": "markdown",
   "id": "fa8acd35",
   "metadata": {},
   "source": [
    "Install requirements"
   ]
  },
  {
   "cell_type": "code",
   "execution_count": null,
   "id": "caa5af62",
   "metadata": {},
   "outputs": [],
   "source": [
    "pip install -r requirements.txt    #pyright: ignore"
   ]
  },
  {
   "cell_type": "markdown",
   "id": "a20d3558",
   "metadata": {},
   "source": [
    "Imports"
   ]
  },
  {
   "cell_type": "code",
   "execution_count": 1,
   "id": "b52f0a17",
   "metadata": {},
   "outputs": [],
   "source": [
    "import time\n",
    "from selenium import webdriver\n",
    "from selenium.webdriver.common.by import By\n",
    "from selenium.webdriver.support.ui import WebDriverWait\n",
    "from selenium.webdriver.support import expected_conditions as EC"
   ]
  },
  {
   "cell_type": "markdown",
   "id": "c2e44845",
   "metadata": {},
   "source": [
    "Initialising variables"
   ]
  },
  {
   "cell_type": "code",
   "execution_count": 7,
   "id": "013c8042",
   "metadata": {},
   "outputs": [],
   "source": [
    "driver = webdriver.ChromiumEdge()\n",
    "driver.get('https://www.instagram.com/')\n",
    "username = 'sampleuser'\n",
    "password = 'samplepass'"
   ]
  },
  {
   "cell_type": "markdown",
   "id": "a74f6289",
   "metadata": {},
   "source": [
    "\n",
    "#### **1. Logging in**\n",
    "\n",
    "---\n",
    "\n",
    "Login to your instagram handle with sample username and password."
   ]
  },
  {
   "cell_type": "code",
   "execution_count": 8,
   "id": "662e8994",
   "metadata": {},
   "outputs": [],
   "source": [
    "driver.get('https://www.instagram.com/')\n",
    "driver.find_element(By.CSS_SELECTOR, \"input[name = 'username']\").send_keys(username)    # usename field -> send username\n",
    "driver.find_element(By.CSS_SELECTOR, \"input[name = 'password']\").send_keys(password)    # password field -> send password\n",
    "driver.find_element(By.CSS_SELECTOR,\"button[type = 'submit']\").click()                  # form submit button -> click"
   ]
  },
  {
   "cell_type": "code",
   "execution_count": 9,
   "id": "490b79fe",
   "metadata": {},
   "outputs": [],
   "source": [
    "# to close annoying popups after logging in and skip to homepage\n",
    "(WebDriverWait(driver, 10).until(EC.presence_of_element_located((By.CSS_SELECTOR, 'div.cmbtv button')))).click()\n",
    "(WebDriverWait(driver, 10).until(EC.presence_of_all_elements_located((By.CSS_SELECTOR, 'div._a9-v button'))))[1].click()"
   ]
  },
  {
   "cell_type": "markdown",
   "id": "b5a0d50b",
   "metadata": {},
   "source": [
    "#### **2. Searching**\n",
    "\n",
    "---\n",
    "\n",
    "Locate search bar and send query. Returns list of search results"
   ]
  },
  {
   "cell_type": "code",
   "execution_count": 16,
   "id": "57f73e2e",
   "metadata": {},
   "outputs": [],
   "source": [
    "def search(search_query):\n",
    "    driver.get('https://www.instagram.com/')\n",
    "    search_bar = WebDriverWait(driver, 10).until(EC.presence_of_element_located(((By.CSS_SELECTOR, 'input[aria-label=\"Search input\"]'))))\n",
    "    search_bar.clear()\n",
    "    search_bar.send_keys(search_query)\n",
    "    return WebDriverWait(driver, 10).until(EC.presence_of_all_elements_located(((By.CSS_SELECTOR, 'div._abn- a'))))"
   ]
  },
  {
   "cell_type": "markdown",
   "id": "689fb787",
   "metadata": {},
   "source": [
    "Type for \"food\" in search bar and print all the names of the instagram Handles that are displayed in the list after typing \"food\"."
   ]
  },
  {
   "cell_type": "code",
   "execution_count": 22,
   "id": "4a57ed51",
   "metadata": {},
   "outputs": [],
   "source": [
    "food_handles = []\n",
    "for search_result in search('food'):\n",
    "    search_result = search_result.get_attribute('href').split('/')    # getting profile link of the handles from search result\n",
    "    try:\n",
    "        search_result[5]    # if more than 5 parts in the link then assumed link corresponds to explore tag and not user handle\n",
    "    except IndexError:\n",
    "        food_handles.append(search_result[3])    # appending the username from proifle link if the link does not corresponds to an explore tag\n"
   ]
  },
  {
   "cell_type": "code",
   "execution_count": 23,
   "id": "f76de12e",
   "metadata": {},
   "outputs": [],
   "source": [
    "# exporting found food handles to txt\n",
    "with open('food_handles.txt', 'w') as text_file:\n",
    "    for handle in food_handles:\n",
    "        text_file.write(handle+'\\n')"
   ]
  },
  {
   "cell_type": "markdown",
   "id": "63ab6ce6",
   "metadata": {},
   "source": [
    "\n",
    "#### **3. Searching and opening profile**\n",
    "\n",
    "---\n",
    "\n",
    "Searching and opening profile of 'So Delhi'"
   ]
  },
  {
   "cell_type": "code",
   "execution_count": 24,
   "id": "f2278810",
   "metadata": {},
   "outputs": [],
   "source": [
    "search('So Delhi')[0].click()"
   ]
  },
  {
   "cell_type": "markdown",
   "id": "b4f6bd0f",
   "metadata": {},
   "source": [
    "\n",
    "#### **4. Follow/unfollow given handle**\n",
    "\n",
    "---\n",
    "\n",
    "Follow and unfollow handle of 'So Delhi'"
   ]
  },
  {
   "cell_type": "code",
   "execution_count": 25,
   "id": "d2a06e76",
   "metadata": {},
   "outputs": [],
   "source": [
    "def open_profile(profile_name):\n",
    "    driver.get('https://www.instagram.com/'+profile_name)"
   ]
  },
  {
   "cell_type": "code",
   "execution_count": 26,
   "id": "ae288958",
   "metadata": {},
   "outputs": [
    {
     "name": "stdout",
     "output_type": "stream",
     "text": [
      "Now Following\n"
     ]
    }
   ],
   "source": [
    "# follow\n",
    "open_profile('sodelhi')\n",
    "follow_btn = WebDriverWait(driver, 10).until(EC.presence_of_all_elements_located((By.CSS_SELECTOR, 'div._aa_m button')))[1]\n",
    "\n",
    "if follow_btn.text == 'Follow':\n",
    "    follow_btn.click()\n",
    "    print(\"Now Following\")\n",
    "else:\n",
    "    print('Already Following')"
   ]
  },
  {
   "cell_type": "code",
   "execution_count": 27,
   "id": "7e3b40f8",
   "metadata": {},
   "outputs": [
    {
     "name": "stdout",
     "output_type": "stream",
     "text": [
      "Unfollowed\n"
     ]
    }
   ],
   "source": [
    "# unfollow \n",
    "open_profile('sodelhi')\n",
    "follow_btn = WebDriverWait(driver, 10).until(EC.presence_of_all_elements_located((By.CSS_SELECTOR, 'div._aa_m button')))[1]\n",
    "\n",
    "if follow_btn.text == 'Follow':\n",
    "    print('Already Unfollowed')\n",
    "else:\n",
    "    follow_btn.click()\n",
    "    (WebDriverWait(driver, 10).until(EC.presence_of_element_located((By.CSS_SELECTOR, 'button._a9--._a9-_')))).click()\n",
    "    print('Unfollowed')"
   ]
  },
  {
   "cell_type": "markdown",
   "id": "ef68cb9d",
   "metadata": {},
   "source": [
    "\n",
    "#### **5. Like/unlike posts**\n",
    "\n",
    "---\n"
   ]
  },
  {
   "cell_type": "code",
   "execution_count": 35,
   "id": "736e919a",
   "metadata": {},
   "outputs": [],
   "source": [
    "# open post view of profile from most recent post\n",
    "def open_post_view(profile_name):\n",
    "    open_profile(profile_name)\n",
    "    WebDriverWait(driver, 10).until(EC.presence_of_all_elements_located((By.CSS_SELECTOR, 'div._aa_m button')))[1]    # waiting profile page to load completely based on if follow button loaded or not\n",
    "    driver.find_element(By.CSS_SELECTOR, 'article a').click()    # open most recent post\n",
    "\n",
    "\n",
    "# like current open post\n",
    "# pass action as False to dislike instead\n",
    "def like(action = True):\n",
    "    try:\n",
    "        like_btn = WebDriverWait(driver, 10).until(EC.presence_of_element_located((By.CSS_SELECTOR, 'section._aamu._aaz9 button._abl-')))\n",
    "    except:\n",
    "        return 'Post view not open'\n",
    "    if like_btn.find_element(By.CSS_SELECTOR, 'svg').get_attribute('aria-label') == 'Like':\n",
    "        if action:\n",
    "            like_btn.click()\n",
    "            return 'liked'\n",
    "        else:\n",
    "            return 'already disliked'\n",
    "    else:\n",
    "        if action:\n",
    "            return 'already liked'\n",
    "        else:\n",
    "            like_btn.click()\n",
    "            return 'disliked'\n",
    "            \n",
    "\n",
    "# go to next post\n",
    "def next_post():\n",
    "    try:\n",
    "        driver.find_element(By.CSS_SELECTOR, 'div._aaqg._aaqh button').click()\n",
    "    except:\n",
    "        return 'Post view not open!'"
   ]
  },
  {
   "cell_type": "code",
   "execution_count": 37,
   "id": "429d6e7b",
   "metadata": {},
   "outputs": [
    {
     "name": "stdout",
     "output_type": "stream",
     "text": [
      "1 liked\n",
      "2 liked\n",
      "3 liked\n",
      "4 liked\n",
      "5 liked\n",
      "6 liked\n",
      "7 liked\n",
      "8 liked\n",
      "9 liked\n",
      "10 liked\n",
      "11 liked\n",
      "12 liked\n",
      "13 liked\n",
      "14 liked\n",
      "15 liked\n",
      "16 liked\n",
      "17 liked\n",
      "18 liked\n",
      "19 liked\n",
      "20 liked\n",
      "21 liked\n",
      "22 liked\n",
      "23 liked\n",
      "24 liked\n",
      "25 liked\n",
      "26 liked\n",
      "27 liked\n",
      "28 liked\n",
      "29 liked\n",
      "30 liked\n"
     ]
    }
   ],
   "source": [
    "# Liking top 30 posts of 'So Delhi'\n",
    "open_post_view('sodelhi')\n",
    "\n",
    "for i in range(30):\n",
    "    print(i+1, like())\n",
    "    next_post()"
   ]
  },
  {
   "cell_type": "code",
   "execution_count": 38,
   "id": "429d6e7b",
   "metadata": {},
   "outputs": [
    {
     "name": "stdout",
     "output_type": "stream",
     "text": [
      "1 already disliked\n",
      "2 already disliked\n",
      "3 disliked\n",
      "4 already disliked\n",
      "5 disliked\n",
      "6 disliked\n",
      "7 disliked\n",
      "8 disliked\n",
      "9 already disliked\n",
      "10 disliked\n",
      "11 disliked\n",
      "12 disliked\n",
      "13 disliked\n",
      "14 disliked\n",
      "15 disliked\n",
      "16 disliked\n",
      "17 disliked\n",
      "18 disliked\n",
      "19 disliked\n",
      "20 disliked\n",
      "21 disliked\n",
      "22 disliked\n",
      "23 disliked\n",
      "24 disliked\n",
      "25 disliked\n",
      "26 disliked\n",
      "27 disliked\n",
      "28 disliked\n",
      "29 disliked\n",
      "30 disliked\n"
     ]
    }
   ],
   "source": [
    "# Disiking top 30 posts of 'So Delhi'\n",
    "open_post_view('sodelhi')\n",
    "\n",
    "for i in range(30):\n",
    "    print(i+1, like(False))\n",
    "    next_post()"
   ]
  },
  {
   "cell_type": "markdown",
   "id": "3dc4688d",
   "metadata": {},
   "source": [
    "\n",
    "#### **6. Extract Followers**\n",
    "\n",
    "---\n",
    "\n",
    "Extract usernames of first 500 followers from given profile"
   ]
  },
  {
   "cell_type": "code",
   "execution_count": 41,
   "id": "c3ddb16e",
   "metadata": {},
   "outputs": [],
   "source": [
    "# pass alt as True to get following list instead of followers\n",
    "def find_followers(profile_name, alt = False):\n",
    "    open_profile(profile_name)\n",
    "    (WebDriverWait(driver, 10).until(EC.presence_of_all_elements_located((By.CSS_SELECTOR, 'ul[class = \"_aa_7\"] a'))))[int(alt)].click()    # wait till followers button load then click\n",
    "    try:\n",
    "        WebDriverWait(driver, 10).until(EC.presence_of_element_located((By.CSS_SELECTOR, 'div._aano li')))    # wait till initial followers list loads\n",
    "    except:\n",
    "        return []    # if follower list doesn't loads after 10 sec, assumed no followers\n",
    "\n",
    "    scroll_tries = 0\n",
    "    current_height = 0    # initialising page height\n",
    "    print(\"Loading users...\")\n",
    "    while True:\n",
    "        # collecting all presently loaded followers\n",
    "        followers_list = driver.find_elements(By.CSS_SELECTOR, 'div._aano li')\n",
    "        followers_count = len(followers_list)\n",
    "\n",
    "        # loading statistics\n",
    "        if followers_count < 500:\n",
    "            print(followers_count, 'users loaded...')\n",
    "\n",
    "        # return final list of follower usernames if more than 500 followers loaded or cannot load more followers\n",
    "        if followers_count >= 500 or scroll_tries == 3:\n",
    "            print(\"Loading complete!\")\n",
    "            return [(follower.find_element(By.CSS_SELECTOR, 'a').get_attribute('href')).split('/')[-2] for follower in followers_list[:500]]\n",
    "\n",
    "        # scroll\n",
    "        prev_height = current_height\n",
    "        current_height = driver.execute_script('return document.querySelector(\"._aano\").scrollHeight;')\n",
    "        driver.execute_script('document.querySelector(\"._aano\").scrollTo(0,arguments[0]);', current_height)\n",
    "        time.sleep(1)\n",
    "\n",
    "        # if cannot scroll more/all list items loaded.\n",
    "        # sometimes, also executed when scroll is not successfull due to page interrupts or long loading times.\n",
    "        # so, tries scrolling at least three times before returning the final list\n",
    "        if prev_height == current_height:\n",
    "            scroll_tries += 1"
   ]
  },
  {
   "cell_type": "code",
   "execution_count": 42,
   "id": "2dc6a53c",
   "metadata": {},
   "outputs": [
    {
     "name": "stdout",
     "output_type": "stream",
     "text": [
      "Finding followers -> foodtalkindia\n",
      "Loading users...\n",
      "12 users loaded...\n",
      "13 users loaded...\n",
      "24 users loaded...\n",
      "25 users loaded...\n",
      "36 users loaded...\n",
      "48 users loaded...\n",
      "59 users loaded...\n",
      "60 users loaded...\n",
      "71 users loaded...\n",
      "72 users loaded...\n",
      "83 users loaded...\n",
      "95 users loaded...\n",
      "96 users loaded...\n",
      "107 users loaded...\n",
      "118 users loaded...\n",
      "130 users loaded...\n",
      "142 users loaded...\n",
      "143 users loaded...\n",
      "153 users loaded...\n",
      "165 users loaded...\n",
      "166 users loaded...\n",
      "177 users loaded...\n",
      "178 users loaded...\n",
      "189 users loaded...\n",
      "190 users loaded...\n",
      "201 users loaded...\n",
      "202 users loaded...\n",
      "212 users loaded...\n",
      "213 users loaded...\n",
      "224 users loaded...\n",
      "225 users loaded...\n",
      "234 users loaded...\n",
      "246 users loaded...\n",
      "247 users loaded...\n",
      "270 users loaded...\n",
      "271 users loaded...\n",
      "281 users loaded...\n",
      "282 users loaded...\n",
      "294 users loaded...\n",
      "305 users loaded...\n",
      "306 users loaded...\n",
      "317 users loaded...\n",
      "327 users loaded...\n",
      "328 users loaded...\n",
      "339 users loaded...\n",
      "340 users loaded...\n",
      "350 users loaded...\n",
      "351 users loaded...\n",
      "362 users loaded...\n",
      "374 users loaded...\n",
      "375 users loaded...\n",
      "385 users loaded...\n",
      "386 users loaded...\n",
      "397 users loaded...\n",
      "409 users loaded...\n",
      "410 users loaded...\n",
      "421 users loaded...\n",
      "422 users loaded...\n",
      "444 users loaded...\n",
      "445 users loaded...\n",
      "455 users loaded...\n",
      "456 users loaded...\n",
      "467 users loaded...\n",
      "468 users loaded...\n",
      "480 users loaded...\n",
      "480 users loaded...\n",
      "491 users loaded...\n",
      "Loading complete!\n",
      "\n",
      "Finding followers -> sodelhi\n",
      "Loading users...\n",
      "12 users loaded...\n",
      "24 users loaded...\n",
      "36 users loaded...\n",
      "48 users loaded...\n",
      "60 users loaded...\n",
      "72 users loaded...\n",
      "73 users loaded...\n",
      "84 users loaded...\n",
      "85 users loaded...\n",
      "95 users loaded...\n",
      "107 users loaded...\n",
      "108 users loaded...\n",
      "120 users loaded...\n",
      "131 users loaded...\n",
      "143 users loaded...\n",
      "155 users loaded...\n",
      "156 users loaded...\n",
      "166 users loaded...\n",
      "178 users loaded...\n",
      "179 users loaded...\n",
      "189 users loaded...\n",
      "201 users loaded...\n",
      "202 users loaded...\n",
      "213 users loaded...\n",
      "214 users loaded...\n",
      "225 users loaded...\n",
      "237 users loaded...\n",
      "238 users loaded...\n",
      "249 users loaded...\n",
      "250 users loaded...\n",
      "261 users loaded...\n",
      "262 users loaded...\n",
      "274 users loaded...\n",
      "286 users loaded...\n",
      "297 users loaded...\n",
      "298 users loaded...\n",
      "309 users loaded...\n",
      "321 users loaded...\n",
      "322 users loaded...\n",
      "332 users loaded...\n",
      "333 users loaded...\n",
      "344 users loaded...\n",
      "345 users loaded...\n",
      "357 users loaded...\n",
      "368 users loaded...\n",
      "380 users loaded...\n",
      "381 users loaded...\n",
      "391 users loaded...\n",
      "392 users loaded...\n",
      "402 users loaded...\n",
      "403 users loaded...\n",
      "414 users loaded...\n",
      "425 users loaded...\n",
      "426 users loaded...\n",
      "437 users loaded...\n",
      "438 users loaded...\n",
      "449 users loaded...\n",
      "461 users loaded...\n",
      "462 users loaded...\n",
      "472 users loaded...\n",
      "473 users loaded...\n",
      "496 users loaded...\n",
      "497 users loaded...\n",
      "Loading complete!\n",
      "\n",
      "Finding own followers\n",
      "\n",
      "Finding own followings\n",
      "Loading users...\n",
      "10 users loaded...\n",
      "10 users loaded...\n",
      "10 users loaded...\n",
      "10 users loaded...\n",
      "10 users loaded...\n",
      "10 users loaded...\n",
      "Loading complete!\n"
     ]
    }
   ],
   "source": [
    "# extracting required followers/following\n",
    "print(\"Finding followers -> foodtalkindia\")\n",
    "followers_foodtalkindia = find_followers('foodtalkindia')\n",
    "\n",
    "print(\"\\nFinding followers -> sodelhi\")\n",
    "followers_sodelhi = find_followers('sodelhi')\n",
    "\n",
    "print(\"\\nFinding own followers\")\n",
    "my_followers = find_followers(username)\n",
    "\n",
    "print(\"\\nFinding own followings\")\n",
    "my_followings = find_followers(username, True)"
   ]
  },
  {
   "cell_type": "code",
   "execution_count": 45,
   "id": "5513ace3",
   "metadata": {},
   "outputs": [],
   "source": [
    "# exporting scrapped follower data to txt files\n",
    "with open('followers_foodtalkindia.txt', 'w') as text_file:\n",
    "    for follower in followers_foodtalkindia:\n",
    "        text_file.write(follower+'\\n')\n",
    "\n",
    "with open('followers_sodelhi.txt', 'w') as text_file:\n",
    "    for follower in followers_sodelhi:\n",
    "        text_file.write(follower+'\\n')"
   ]
  },
  {
   "cell_type": "code",
   "execution_count": 46,
   "id": "764bac14",
   "metadata": {},
   "outputs": [
    {
     "name": "stdout",
     "output_type": "stream",
     "text": [
      "cloudkitchensmumbai\n",
      "trigartaofficial\n",
      "the_magic_spatula_\n",
      "thecheesecottage.tangmarg\n",
      "getwhippedindia\n"
     ]
    }
   ],
   "source": [
    "# printing required result\n",
    "for user in my_followings:\n",
    "    if user in followers_foodtalkindia and user not in my_followers:\n",
    "        print(user)"
   ]
  },
  {
   "cell_type": "markdown",
   "id": "7155b7ea",
   "metadata": {},
   "source": [
    "\n",
    "#### **7. Check Story**\n",
    "\n",
    "---\n",
    "\n",
    "Check story of given profile and print possible scenarios approriately"
   ]
  },
  {
   "cell_type": "code",
   "execution_count": 50,
   "id": "f275b4e1",
   "metadata": {},
   "outputs": [],
   "source": [
    "def check_story(profile_name):\n",
    "    open_profile(profile_name)\n",
    "    time.sleep(5)    # assumed profile pic loads in 5 seconds, no better way to condition for now mv as same class exits in amlomst every other page without specific ids\n",
    "    profile_pic = driver.find_element(By.CSS_SELECTOR, 'div._aarf')\n",
    "    pic_height = profile_pic.find_element(By.CSS_SELECTOR, 'canvas').get_attribute('height')\n",
    "    story_disabled =  profile_pic.get_attribute('aria-disabled')\n",
    "    \n",
    "    if story_disabled == 'true':\n",
    "        return 'User has no story'\n",
    "\n",
    "    else:\n",
    "        # By observation\n",
    "        # For seen story pic_height is 208\n",
    "        # For unseen story pic_height is 210\n",
    "        # So without much complexities, just conditioned based on this\n",
    "        if pic_height == '208':\n",
    "            return 'You have already seen the story'\n",
    "        if pic_height == '210':\n",
    "            profile_pic.click()\n",
    "            return 'Viewing story'"
   ]
  },
  {
   "cell_type": "code",
   "execution_count": 51,
   "id": "9f369ee0",
   "metadata": {},
   "outputs": [
    {
     "data": {
      "text/plain": [
       "'You have already seen the story'"
      ]
     },
     "execution_count": 51,
     "metadata": {},
     "output_type": "execute_result"
    }
   ],
   "source": [
    "# check out the story of coding.ninjas\n",
    "check_story('coding.ninjas')"
   ]
  }
 ],
 "metadata": {
  "kernelspec": {
   "display_name": "Python 3.10.0 64-bit",
   "language": "python",
   "name": "python3"
  },
  "language_info": {
   "codemirror_mode": {
    "name": "ipython",
    "version": 3
   },
   "file_extension": ".py",
   "mimetype": "text/x-python",
   "name": "python",
   "nbconvert_exporter": "python",
   "pygments_lexer": "ipython3",
   "version": "3.10.0"
  },
  "vscode": {
   "interpreter": {
    "hash": "8925120094c30cfcf52475a53e76e9e54f965c4e5eeb7d39eacd98c85315eb39"
   }
  }
 },
 "nbformat": 4,
 "nbformat_minor": 5
}
